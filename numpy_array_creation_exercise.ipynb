{
 "cells": [
  {
   "cell_type": "markdown",
   "id": "f5b1ecbe",
   "metadata": {},
   "source": [
    "\n",
    "# 🚀 Learn NumPy Array Creation by Doing! [Beginner Exercise]\n",
    "\n",
    "Welcome to your first **hands-on exercise** in NumPy! 💻  \n",
    "Here, you’ll **write and run Python code** to create NumPy arrays.  \n",
    "This is part of the **Learn by Doing** approach—*no passive reading, only active learning* 🧠✨\n"
   ]
  },
  {
   "cell_type": "markdown",
   "id": "fe474a49",
   "metadata": {},
   "source": [
    "\n",
    "## ✅ Pre-requisite\n",
    "\n",
    "Make sure you have NumPy installed. You can install it using:\n",
    "\n",
    "```bash\n",
    "pip install numpy\n",
    "```\n"
   ]
  },
  {
   "cell_type": "markdown",
   "id": "66061ee4",
   "metadata": {},
   "source": [
    "### Task 1: Import NumPy"
   ]
  },
  {
   "cell_type": "code",
   "execution_count": null,
   "id": "38fc10d0",
   "metadata": {},
   "outputs": [],
   "source": [
    "# Your code here\n"
   ]
  },
  {
   "cell_type": "markdown",
   "id": "696a7e24",
   "metadata": {},
   "source": [
    "### Task 2: Create a 1D array with values [10, 20, 30, 40, 50]"
   ]
  },
  {
   "cell_type": "code",
   "execution_count": null,
   "id": "1ac37278",
   "metadata": {},
   "outputs": [],
   "source": [
    "# Your code here\n"
   ]
  },
  {
   "cell_type": "markdown",
   "id": "10602265",
   "metadata": {},
   "source": [
    "### Task 3: Create an array of numbers from 0 to 9"
   ]
  },
  {
   "cell_type": "code",
   "execution_count": null,
   "id": "a246e2e0",
   "metadata": {},
   "outputs": [],
   "source": [
    "# Your code here\n",
    "# 💡 Hint: Use np.arange(...)"
   ]
  },
  {
   "cell_type": "markdown",
   "id": "2910b8ca",
   "metadata": {},
   "source": [
    "### Task 4: Create a 3x3 matrix of all zeros"
   ]
  },
  {
   "cell_type": "code",
   "execution_count": null,
   "id": "2b187978",
   "metadata": {},
   "outputs": [],
   "source": [
    "# Your code here\n"
   ]
  },
  {
   "cell_type": "markdown",
   "id": "84cf6cbe",
   "metadata": {},
   "source": [
    "### Task 5: Create a 2x4 matrix filled with ones"
   ]
  },
  {
   "cell_type": "code",
   "execution_count": null,
   "id": "1b5a833c",
   "metadata": {},
   "outputs": [],
   "source": [
    "# Your code here\n"
   ]
  },
  {
   "cell_type": "markdown",
   "id": "6b5d0c18",
   "metadata": {},
   "source": [
    "### Task 6: Create an identity matrix of size 4x4"
   ]
  },
  {
   "cell_type": "code",
   "execution_count": null,
   "id": "7d91c0a6",
   "metadata": {},
   "outputs": [],
   "source": [
    "# Your code here\n"
   ]
  },
  {
   "cell_type": "markdown",
   "id": "d8cd9891",
   "metadata": {},
   "source": [
    "### Task 7: Create an array of 5 random integers between 1 and 100"
   ]
  },
  {
   "cell_type": "code",
   "execution_count": null,
   "id": "8a5c6fb8",
   "metadata": {},
   "outputs": [],
   "source": [
    "# Your code here\n",
    "# 💡 Hint: Use np.random.randint(...)"
   ]
  },
  {
   "cell_type": "markdown",
   "id": "43e71ee2",
   "metadata": {},
   "source": [
    "### Task 8: Create an array of 10 random float numbers between 0 and 1"
   ]
  },
  {
   "cell_type": "code",
   "execution_count": null,
   "id": "987dc7d9",
   "metadata": {},
   "outputs": [],
   "source": [
    "# Your code here\n",
    "# 💡 Hint: Use np.random.rand(...)"
   ]
  },
  {
   "cell_type": "markdown",
   "id": "7b565ca9",
   "metadata": {},
   "source": [
    "### Task 9: Create an array using linspace from 0 to 1 with 5 points"
   ]
  },
  {
   "cell_type": "code",
   "execution_count": null,
   "id": "18142007",
   "metadata": {},
   "outputs": [],
   "source": [
    "# Your code here\n"
   ]
  },
  {
   "cell_type": "markdown",
   "id": "2f319256",
   "metadata": {},
   "source": [
    "### Task 10: Create a 3D array of shape (2, 3, 4) with random values"
   ]
  },
  {
   "cell_type": "code",
   "execution_count": null,
   "id": "9e74f831",
   "metadata": {},
   "outputs": [],
   "source": [
    "# Your code here\n"
   ]
  },
  {
   "cell_type": "markdown",
   "id": "4ff1c594",
   "metadata": {},
   "source": [
    "\n",
    "## 🧠 Reflect\n",
    "\n",
    "**What’s the difference between:**\n",
    "\n",
    "- `np.arange()` and `np.linspace()`?\n",
    "- `np.zeros()` vs `np.empty()`?\n",
    "\n",
    "Write your answers below.\n"
   ]
  },
  {
   "cell_type": "markdown",
   "id": "d42cfd2e",
   "metadata": {},
   "source": [
    "\n",
    "## 🔚 Congratulations!\n",
    "\n",
    "You just practiced **10 ways to create arrays in NumPy** using real code! 🎉  \n",
    "Keep experimenting. If something doesn’t work, **tweak it and try again**. That’s how real learning happens. 👨‍🔬👩‍🔬\n"
   ]
  }
 ],
 "metadata": {},
 "nbformat": 4,
 "nbformat_minor": 5
}
